{
 "cells": [
  {
   "cell_type": "markdown",
   "metadata": {},
   "source": [
    "# XML example and exercise\n",
    "****\n",
    "+ study examples of accessing nodes in XML tree structure  \n",
    "+ work on exercise to be completed and submitted\n",
    "****\n",
    "+ reference: https://docs.python.org/2.7/library/xml.etree.elementtree.html\n",
    "+ data source: http://www.dbis.informatik.uni-goettingen.de/Mondial\n",
    "****"
   ]
  },
  {
   "cell_type": "code",
   "execution_count": 12,
   "metadata": {
    "collapsed": true
   },
   "outputs": [],
   "source": [
    "from xml.etree import ElementTree as ET\n",
    "import pandas as pd\n",
    "import numpy as np"
   ]
  },
  {
   "cell_type": "markdown",
   "metadata": {},
   "source": [
    "## XML example\n",
    "\n",
    "+ for details about tree traversal and iterators, see https://docs.python.org/2.7/library/xml.etree.elementtree.html"
   ]
  },
  {
   "cell_type": "code",
   "execution_count": 13,
   "metadata": {
    "collapsed": true
   },
   "outputs": [],
   "source": [
    "document_tree = ET.parse( './data/mondial_database_less.xml' )"
   ]
  },
  {
   "cell_type": "code",
   "execution_count": 14,
   "metadata": {
    "collapsed": false
   },
   "outputs": [
    {
     "name": "stdout",
     "output_type": "stream",
     "text": [
      "Albania\n",
      "Greece\n",
      "Macedonia\n",
      "Serbia\n",
      "Montenegro\n",
      "Kosovo\n",
      "Andorra\n"
     ]
    }
   ],
   "source": [
    "# print names of all countries\n",
    "for child in document_tree.getroot():\n",
    "    print child.find('name').text"
   ]
  },
  {
   "cell_type": "code",
   "execution_count": 35,
   "metadata": {
    "collapsed": false
   },
   "outputs": [
    {
     "name": "stdout",
     "output_type": "stream",
     "text": [
      "* Albania: Tirana, Shkodër, Durrës, Vlorë, Elbasan, Korçë\n",
      "* Greece: Komotini, Kavala, Athina, Peiraias, Peristeri, Acharnes, Patra, Kozani, Kerkyra, Ioannina, Thessaloniki, Iraklio, Chania, Ermoupoli, Rhodes, Tripoli, Lamia, Chalkida, Larissa, Volos, Mytilini, Karyes\n",
      "* Macedonia: Skopje, Kumanovo\n",
      "* Serbia: Beograd, Novi Sad, Niš\n",
      "* Montenegro: Podgorica\n",
      "* Kosovo: Prishtine\n",
      "* Andorra: Andorra la Vella\n"
     ]
    }
   ],
   "source": [
    "# print names of all countries and their cities\n",
    "for element in document_tree.iterfind('country'):\n",
    "    print '* ' + element.find('name').text + ':',\n",
    "    capitals_string = ''\n",
    "    for subelement in element.getiterator('city'):\n",
    "        capitals_string += subelement.find('name').text + ', '\n",
    "    print capitals_string[:-2]"
   ]
  },
  {
   "cell_type": "code",
   "execution_count": 32,
   "metadata": {
    "collapsed": false
   },
   "outputs": [
    {
     "data": {
      "text/plain": [
       "15600.0"
      ]
     },
     "execution_count": 32,
     "metadata": {},
     "output_type": "execute_result"
    }
   ],
   "source": [
    "float(p[0].text)"
   ]
  },
  {
   "cell_type": "markdown",
   "metadata": {},
   "source": [
    "****\n",
    "## XML exercise\n",
    "\n",
    "Using data in 'data/mondial_database.xml', the examples above, and refering to https://docs.python.org/2.7/library/xml.etree.elementtree.html, find\n",
    "\n",
    "1. 10 countries with the lowest infant mortality rates\n",
    "2. 10 cities with the largest population\n",
    "3. 10 ethnic groups with the largest overall populations (sum of best/latest estimates over all countries)\n",
    "4. name and country of a) longest river, b) largest lake and c) airport at highest elevation"
   ]
  },
  {
   "cell_type": "code",
   "execution_count": 16,
   "metadata": {
    "collapsed": true
   },
   "outputs": [],
   "source": [
    "document = ET.parse( './data/mondial_database.xml' )"
   ]
  },
  {
   "cell_type": "code",
   "execution_count": 17,
   "metadata": {
    "collapsed": false
   },
   "outputs": [],
   "source": [
    "root = document.getroot()"
   ]
  },
  {
   "cell_type": "code",
   "execution_count": 18,
   "metadata": {
    "collapsed": false
   },
   "outputs": [
    {
     "data": {
      "text/plain": [
       "'mondial'"
      ]
     },
     "execution_count": 18,
     "metadata": {},
     "output_type": "execute_result"
    }
   ],
   "source": [
    "root.tag"
   ]
  },
  {
   "cell_type": "markdown",
   "metadata": {},
   "source": [
    "## 10 countries with the lowest infant mortality"
   ]
  },
  {
   "cell_type": "code",
   "execution_count": 19,
   "metadata": {
    "collapsed": true
   },
   "outputs": [],
   "source": [
    "countries = []\n",
    "inf_mort_rate = []"
   ]
  },
  {
   "cell_type": "code",
   "execution_count": 20,
   "metadata": {
    "collapsed": false
   },
   "outputs": [],
   "source": [
    "for c in root.iter('country'):\n",
    "    countries.append(c.findtext('name'))\n",
    "    inf_mort_rate.append(c.findtext('infant_mortality'))"
   ]
  },
  {
   "cell_type": "code",
   "execution_count": 21,
   "metadata": {
    "collapsed": false
   },
   "outputs": [],
   "source": [
    "pd_inf_mort_rate = pd.DataFrame({'Infant mortality rate': inf_mort_rate}, index = countries)\n",
    "pd_inf_mort_rate=pd_inf_mort_rate['Infant mortality rate'].astype('float')\n",
    "pd_inf_mort_rate = pd_inf_mort_rate.dropna()"
   ]
  },
  {
   "cell_type": "markdown",
   "metadata": {},
   "source": [
    "The answer is:"
   ]
  },
  {
   "cell_type": "code",
   "execution_count": 22,
   "metadata": {
    "collapsed": false
   },
   "outputs": [
    {
     "data": {
      "text/plain": [
       "Monaco            1.81\n",
       "Japan             2.13\n",
       "Bermuda           2.48\n",
       "Norway            2.48\n",
       "Singapore         2.53\n",
       "Sweden            2.60\n",
       "Czech Republic    2.63\n",
       "Hong Kong         2.73\n",
       "Macao             3.13\n",
       "Iceland           3.15\n",
       "Name: Infant mortality rate, dtype: float64"
      ]
     },
     "execution_count": 22,
     "metadata": {},
     "output_type": "execute_result"
    }
   ],
   "source": [
    "pd_inf_mort_rate.order().head(10)"
   ]
  },
  {
   "cell_type": "markdown",
   "metadata": {},
   "source": [
    "## 10 cities with the largest popullation"
   ]
  },
  {
   "cell_type": "code",
   "execution_count": 140,
   "metadata": {
    "collapsed": true
   },
   "outputs": [],
   "source": [
    "cities = []\n",
    "population = []\n",
    "country = []"
   ]
  },
  {
   "cell_type": "code",
   "execution_count": 142,
   "metadata": {
    "collapsed": false
   },
   "outputs": [],
   "source": [
    "# print names of all countries and their cities\n",
    "for element in root.iterfind('country'):\n",
    "    for subelement in element.getiterator('city'):\n",
    "        for subsubelement in subelement.findall('population'):\n",
    "            cities.append(subelement.find('name').text)\n",
    "            population.append(subsubelement.text)\n",
    "            country.append(element.find('name').text)\n",
    "    \n",
    "    for subelement in element.getiterator('province'):\n",
    "        for subsubelement in subelement.findall('city'):\n",
    "            for subsubsubelement in subsubelement.findall('population'):\n",
    "                cities.append(subsubelement.find('name').text)\n",
    "                population.append(subsubsubelement.text)\n",
    "                country.append(element.find('name').text)"
   ]
  },
  {
   "cell_type": "code",
   "execution_count": 143,
   "metadata": {
    "collapsed": false
   },
   "outputs": [],
   "source": [
    "df_city_population = pd.DataFrame({'Country': country,'City': cities, 'Population': population})"
   ]
  },
  {
   "cell_type": "code",
   "execution_count": 144,
   "metadata": {
    "collapsed": false
   },
   "outputs": [],
   "source": [
    "df_city_population = df_city_population.drop_duplicates()\n",
    "df_city_population['Population']=df_city_population['Population'].astype('float')\n",
    "df_city_population = df_city_population.dropna()"
   ]
  },
  {
   "cell_type": "code",
   "execution_count": 145,
   "metadata": {
    "collapsed": false
   },
   "outputs": [],
   "source": [
    "df_city_population = df_city_population.groupby(['City']).max()"
   ]
  },
  {
   "cell_type": "code",
   "execution_count": 146,
   "metadata": {
    "collapsed": false
   },
   "outputs": [],
   "source": [
    "result = df_city_population.sort(['Population'], ascending=[0])"
   ]
  },
  {
   "cell_type": "markdown",
   "metadata": {},
   "source": [
    "The answer is:"
   ]
  },
  {
   "cell_type": "code",
   "execution_count": 148,
   "metadata": {
    "collapsed": false
   },
   "outputs": [
    {
     "data": {
      "text/html": [
       "<div style=\"max-height:1000px;max-width:1500px;overflow:auto;\">\n",
       "<table border=\"1\" class=\"dataframe\">\n",
       "  <thead>\n",
       "    <tr style=\"text-align: right;\">\n",
       "      <th></th>\n",
       "      <th>Country</th>\n",
       "      <th>Population</th>\n",
       "    </tr>\n",
       "    <tr>\n",
       "      <th>City</th>\n",
       "      <th></th>\n",
       "      <th></th>\n",
       "    </tr>\n",
       "  </thead>\n",
       "  <tbody>\n",
       "    <tr>\n",
       "      <th>Shanghai</th>\n",
       "      <td>  China</td>\n",
       "      <td> 22315474</td>\n",
       "    </tr>\n",
       "    <tr>\n",
       "      <th>Istanbul</th>\n",
       "      <td> Turkey</td>\n",
       "      <td> 13710512</td>\n",
       "    </tr>\n",
       "    <tr>\n",
       "      <th>Delhi</th>\n",
       "      <td>  India</td>\n",
       "      <td> 12877470</td>\n",
       "    </tr>\n",
       "    <tr>\n",
       "      <th>Mumbai</th>\n",
       "      <td>  India</td>\n",
       "      <td> 12442373</td>\n",
       "    </tr>\n",
       "    <tr>\n",
       "      <th>Moskva</th>\n",
       "      <td> Russia</td>\n",
       "      <td> 11979529</td>\n",
       "    </tr>\n",
       "    <tr>\n",
       "      <th>Beijing</th>\n",
       "      <td>  China</td>\n",
       "      <td> 11716620</td>\n",
       "    </tr>\n",
       "    <tr>\n",
       "      <th>São Paulo</th>\n",
       "      <td> Brazil</td>\n",
       "      <td> 11152344</td>\n",
       "    </tr>\n",
       "    <tr>\n",
       "      <th>Tianjin</th>\n",
       "      <td>  China</td>\n",
       "      <td> 11090314</td>\n",
       "    </tr>\n",
       "    <tr>\n",
       "      <th>Guangzhou</th>\n",
       "      <td>  China</td>\n",
       "      <td> 11071424</td>\n",
       "    </tr>\n",
       "    <tr>\n",
       "      <th>Shenzhen</th>\n",
       "      <td>  China</td>\n",
       "      <td> 10358381</td>\n",
       "    </tr>\n",
       "  </tbody>\n",
       "</table>\n",
       "</div>"
      ],
      "text/plain": [
       "          Country  Population\n",
       "City                         \n",
       "Shanghai    China    22315474\n",
       "Istanbul   Turkey    13710512\n",
       "Delhi       India    12877470\n",
       "Mumbai      India    12442373\n",
       "Moskva     Russia    11979529\n",
       "Beijing     China    11716620\n",
       "São Paulo  Brazil    11152344\n",
       "Tianjin     China    11090314\n",
       "Guangzhou   China    11071424\n",
       "Shenzhen    China    10358381"
      ]
     },
     "execution_count": 148,
     "metadata": {},
     "output_type": "execute_result"
    }
   ],
   "source": [
    "result.head(10)"
   ]
  },
  {
   "cell_type": "markdown",
   "metadata": {},
   "source": [
    "##10 ethnic groups with the largest overall populations (sum of best/latest estimates over all countries)"
   ]
  },
  {
   "cell_type": "code",
   "execution_count": 184,
   "metadata": {
    "collapsed": true
   },
   "outputs": [],
   "source": [
    "def latest_population(element):\n",
    "    year_ref = 0\n",
    "    for subelement in element.findall('population'):\n",
    "        year = subelement.get('year')\n",
    "        if year > year_ref:\n",
    "            population= float(subelement.text)\n",
    "            year_ref = year\n",
    "    return population"
   ]
  },
  {
   "cell_type": "code",
   "execution_count": 188,
   "metadata": {
    "collapsed": true
   },
   "outputs": [],
   "source": [
    "population = []\n",
    "country = []\n",
    "ethnic_percentage = []\n",
    "ethnic_name1 = []"
   ]
  },
  {
   "cell_type": "code",
   "execution_count": 190,
   "metadata": {
    "collapsed": false
   },
   "outputs": [],
   "source": [
    "for element in root.iterfind('country'):\n",
    "    l = element\n",
    "    for subelement in element.findall('ethnicgroup'):\n",
    "        country.append(element.find('name').text)\n",
    "        population.append(latest_population(element))\n",
    "        ethnic_percentage.append(float(subelement.get('percentage')))\n",
    "        ethnic_name.append(subelement.text)"
   ]
  },
  {
   "cell_type": "code",
   "execution_count": 191,
   "metadata": {
    "collapsed": false
   },
   "outputs": [],
   "source": [
    "df_ethtic_group = pd.DataFrame({'Country': country, 'Population': population, \n",
    "                                'Ethnic_percentage': ethnic_percentage, 'Ethnic_name': ethnic_name})\n",
    "df_ethtic_group['Ethnic_percentage'] = df_ethtic_group['Ethnic_percentage'].astype('float')"
   ]
  },
  {
   "cell_type": "code",
   "execution_count": 192,
   "metadata": {
    "collapsed": false
   },
   "outputs": [],
   "source": [
    "df_ethtic_group['Ethtic_population'] = (df_ethtic_group['Ethnic_percentage']/100)*df_ethtic_group['Population']"
   ]
  },
  {
   "cell_type": "code",
   "execution_count": 194,
   "metadata": {
    "collapsed": false
   },
   "outputs": [],
   "source": [
    "df = df_ethtic_group[['Ethnic_name','Ethtic_population']]"
   ]
  },
  {
   "cell_type": "code",
   "execution_count": 197,
   "metadata": {
    "collapsed": false
   },
   "outputs": [],
   "source": [
    "result = df.groupby(['Ethnic_name']).sum().sort(['Ethtic_population'], ascending=[0])"
   ]
  },
  {
   "cell_type": "markdown",
   "metadata": {},
   "source": [
    "The answer is:"
   ]
  },
  {
   "cell_type": "code",
   "execution_count": 198,
   "metadata": {
    "collapsed": false
   },
   "outputs": [
    {
     "data": {
      "text/html": [
       "<div style=\"max-height:1000px;max-width:1500px;overflow:auto;\">\n",
       "<table border=\"1\" class=\"dataframe\">\n",
       "  <thead>\n",
       "    <tr style=\"text-align: right;\">\n",
       "      <th></th>\n",
       "      <th>Ethtic_population</th>\n",
       "    </tr>\n",
       "    <tr>\n",
       "      <th>Ethnic_name</th>\n",
       "      <th></th>\n",
       "    </tr>\n",
       "  </thead>\n",
       "  <tbody>\n",
       "    <tr>\n",
       "      <th>Han Chinese</th>\n",
       "      <td> 1.245059e+09</td>\n",
       "    </tr>\n",
       "    <tr>\n",
       "      <th>Indo-Aryan</th>\n",
       "      <td> 8.718156e+08</td>\n",
       "    </tr>\n",
       "    <tr>\n",
       "      <th>European</th>\n",
       "      <td> 4.948722e+08</td>\n",
       "    </tr>\n",
       "    <tr>\n",
       "      <th>African</th>\n",
       "      <td> 3.183251e+08</td>\n",
       "    </tr>\n",
       "    <tr>\n",
       "      <th>Dravidian</th>\n",
       "      <td> 3.027137e+08</td>\n",
       "    </tr>\n",
       "    <tr>\n",
       "      <th>Mestizo</th>\n",
       "      <td> 1.577344e+08</td>\n",
       "    </tr>\n",
       "    <tr>\n",
       "      <th>Bengali</th>\n",
       "      <td> 1.467769e+08</td>\n",
       "    </tr>\n",
       "    <tr>\n",
       "      <th>Russian</th>\n",
       "      <td> 1.318570e+08</td>\n",
       "    </tr>\n",
       "    <tr>\n",
       "      <th>Japanese</th>\n",
       "      <td> 1.265342e+08</td>\n",
       "    </tr>\n",
       "    <tr>\n",
       "      <th>Malay</th>\n",
       "      <td> 1.219936e+08</td>\n",
       "    </tr>\n",
       "  </tbody>\n",
       "</table>\n",
       "</div>"
      ],
      "text/plain": [
       "             Ethtic_population\n",
       "Ethnic_name                   \n",
       "Han Chinese       1.245059e+09\n",
       "Indo-Aryan        8.718156e+08\n",
       "European          4.948722e+08\n",
       "African           3.183251e+08\n",
       "Dravidian         3.027137e+08\n",
       "Mestizo           1.577344e+08\n",
       "Bengali           1.467769e+08\n",
       "Russian           1.318570e+08\n",
       "Japanese          1.265342e+08\n",
       "Malay             1.219936e+08"
      ]
     },
     "execution_count": 198,
     "metadata": {},
     "output_type": "execute_result"
    }
   ],
   "source": [
    "result.head(10)"
   ]
  },
  {
   "cell_type": "markdown",
   "metadata": {},
   "source": [
    "##4. name and country of a) longest river, b) largest lake and c) airport at highest elevation"
   ]
  },
  {
   "cell_type": "code",
   "execution_count": 266,
   "metadata": {
    "collapsed": true
   },
   "outputs": [],
   "source": [
    "def wrap_question4(root, tagname_prop, tagname_size):\n",
    "    Prop = [] #River, Lake or Airport\n",
    "    Size = [] #Length, Area or some such\n",
    "    Country = []\n",
    "    \n",
    "    # Parcing XML here\n",
    "    for element in root.iterfind(tagname_prop):\n",
    "        Prop.append(element.find('name').text)\n",
    "        Country.append(element.get('country'))\n",
    "        if element.find(tagname_size) is not None:\n",
    "            Size.append(element.find(tagname_size).text)\n",
    "        else:\n",
    "            Size.append(np.nan)\n",
    "     \n",
    "    df = pd.DataFrame({'Property': Prop, 'Size': Size, 'Country': Country})\n",
    "    df['Size'] = df['Size'].astype('float')\n",
    "    df_result = df.sort(['Size'], ascending=0).head(1).reset_index(drop = True)\n",
    "    \n",
    "    Property_result = df_result['Property'][0]\n",
    "    Countries_result = []\n",
    "    Countries_result_id = df_result['Country'][0].split(' ')\n",
    "    \n",
    "    # Getting proper names of the countries\n",
    "    for element in root.iterfind('country'):\n",
    "        idc = element.get('car_code')\n",
    "        if idc in Countries_result_id:\n",
    "            Countries_result.append(element.find('name').text)\n",
    "    \n",
    "    return Property_result, Countries_result"
   ]
  },
  {
   "cell_type": "markdown",
   "metadata": {},
   "source": [
    "###a) Longest River"
   ]
  },
  {
   "cell_type": "code",
   "execution_count": 267,
   "metadata": {
    "collapsed": true
   },
   "outputs": [],
   "source": [
    "longest_river, countries_river = wrap_question4(root, 'river', 'length')"
   ]
  },
  {
   "cell_type": "code",
   "execution_count": 268,
   "metadata": {
    "collapsed": false
   },
   "outputs": [
    {
     "name": "stdout",
     "output_type": "stream",
     "text": [
      "The longest river is Amazonasthat is located in ['Colombia', 'Brazil', 'Peru']\n"
     ]
    }
   ],
   "source": [
    "print 'The longest river is ' + longest_river + ' that is located in ' + str(countries_river)"
   ]
  },
  {
   "cell_type": "markdown",
   "metadata": {},
   "source": [
    "###b) Largest Lake"
   ]
  },
  {
   "cell_type": "code",
   "execution_count": 269,
   "metadata": {
    "collapsed": true
   },
   "outputs": [],
   "source": [
    "largest_lake, countries_lake = wrap_question4(root, 'lake', 'area')"
   ]
  },
  {
   "cell_type": "code",
   "execution_count": 270,
   "metadata": {
    "collapsed": false
   },
   "outputs": [
    {
     "name": "stdout",
     "output_type": "stream",
     "text": [
      "The largest lake is Caspian Sea that is located in ['Russia', 'Iran', 'Turkmenistan', 'Azerbaijan', 'Kazakhstan']\n"
     ]
    }
   ],
   "source": [
    "print 'The largest lake is ' + largest_lake + ' that is located in ' + str(countries_lake)"
   ]
  },
  {
   "cell_type": "markdown",
   "metadata": {},
   "source": [
    "###c) Airport at highest elevation"
   ]
  },
  {
   "cell_type": "code",
   "execution_count": 271,
   "metadata": {
    "collapsed": true
   },
   "outputs": [],
   "source": [
    "largest_airport, countries_airport = wrap_question4(root, 'airport', 'elevation')"
   ]
  },
  {
   "cell_type": "code",
   "execution_count": 272,
   "metadata": {
    "collapsed": false
   },
   "outputs": [
    {
     "name": "stdout",
     "output_type": "stream",
     "text": [
      "The airport at highest elevation is El Alto Intl that is located in ['Bolivia']\n"
     ]
    }
   ],
   "source": [
    "print 'The airport at highest elevation is ' + largest_airport + ' that is located in ' + str(countries_airport)"
   ]
  },
  {
   "cell_type": "code",
   "execution_count": null,
   "metadata": {
    "collapsed": true
   },
   "outputs": [],
   "source": []
  }
 ],
 "metadata": {
  "kernelspec": {
   "display_name": "Python 2",
   "language": "python",
   "name": "python2"
  },
  "language_info": {
   "codemirror_mode": {
    "name": "ipython",
    "version": 2
   },
   "file_extension": ".py",
   "mimetype": "text/x-python",
   "name": "python",
   "nbconvert_exporter": "python",
   "pygments_lexer": "ipython2",
   "version": "2.7.8"
  }
 },
 "nbformat": 4,
 "nbformat_minor": 0
}
